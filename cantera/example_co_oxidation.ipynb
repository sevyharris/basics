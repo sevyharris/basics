{
 "cells": [
  {
   "cell_type": "markdown",
   "id": "ab04ca1a",
   "metadata": {},
   "source": [
    "# Example surface reactor for CO Oxidation"
   ]
  },
  {
   "cell_type": "code",
   "execution_count": 2,
   "id": "094b74ed",
   "metadata": {},
   "outputs": [],
   "source": [
    "import numpy as np\n",
    "import matplotlib.pyplot as plt\n",
    "import cantera as ct\n",
    "import pandas as pd\n",
    "from scipy.optimize import fsolve\n"
   ]
  },
  {
   "cell_type": "code",
   "execution_count": 76,
   "id": "eb6479c1",
   "metadata": {},
   "outputs": [],
   "source": [
    "# Define reactor conditions\n",
    "CO_0 = 1.0  # kmol / m^3\n",
    "O2_0 = 1.0  # kmol / m^3\n",
    "Ar_0 = 1.0  # kmol / m^3\n",
    "REACTOR_VOLUME = 1.0  # m^3\n",
    "volume_flow = 3.32416e-5\n",
    "REACTOR_TEMPERATURE = 900  # K\n",
    "REACTOR_PRESSURE = 100000.0  # 1 bar = 100000 Pa\n",
    "MAX_SIMULATION_TIME = 250.0\n",
    "CONCENTRATIONS = {\n",
    "    'CO(4)': 0.1,\n",
    "    'O2(2)': 0.1,\n",
    "    'Ar': 0.8,\n",
    "}\n",
    "\n",
    "x_CO = CONCENTRATIONS['CO(4)']\n",
    "x_O2 = CONCENTRATIONS['O2(2)']\n",
    "x_Ar = CONCENTRATIONS['Ar']\n"
   ]
  },
  {
   "cell_type": "code",
   "execution_count": 77,
   "id": "b047349b",
   "metadata": {},
   "outputs": [
    {
     "name": "stderr",
     "output_type": "stream",
     "text": [
      "/home/moon/anaconda3/envs/rmg_env/lib/python3.7/site-packages/ipykernel_launcher.py:3: DeprecationWarning: Converting `np.integer` or `np.signedinteger` to a dtype is deprecated. The current result is `np.dtype(np.int_)` which is not strictly correct. Note that the result depends on the system. To ensure stable results use may want to use `np.int64` or `np.int32`.\n",
      "  This is separate from the ipykernel package so we can avoid doing imports until\n",
      "/home/moon/anaconda3/envs/rmg_env/lib/python3.7/site-packages/ipykernel_launcher.py:4: DeprecationWarning: Converting `np.integer` or `np.signedinteger` to a dtype is deprecated. The current result is `np.dtype(np.int_)` which is not strictly correct. Note that the result depends on the system. To ensure stable results use may want to use `np.int64` or `np.int32`.\n",
      "  after removing the cwd from sys.path.\n"
     ]
    }
   ],
   "source": [
    "# Read in the mechanism file\n",
    "model_file = 'chem_annotated.cti'\n",
    "gas = ct.Solution(model_file, \"gas\")\n",
    "surf = ct.Interface(model_file, \"surface1\", [gas])\n",
    "\n",
    "MW_Ar = gas.molecular_weights[gas.species_index('Ar')]\n",
    "MW_CO = gas.molecular_weights[gas.species_index('CO(4)')]\n",
    "MW_O2 = gas.molecular_weights[gas.species_index('O2(2)')]\n",
    "\n",
    "# initialize T and P\n",
    "gas.TPX = REACTOR_TEMPERATURE, REACTOR_PRESSURE, CONCENTRATIONS\n",
    "surf.TP = REACTOR_TEMPERATURE, REACTOR_PRESSURE\n"
   ]
  },
  {
   "cell_type": "code",
   "execution_count": 78,
   "id": "3bc6962d",
   "metadata": {},
   "outputs": [],
   "source": [
    "# Catalyst settings (really need to double check these)\n",
    "catalyst_weight = 4.24e-3\n",
    "cat_site_per_wt = 5*61.67*1e-6*1e3 # [mol/kg] 1e-6mol/micromole, 1000g/kg\n",
    "site_density = (\n",
    "    surf.site_density * 1000\n",
    ")  # [mol/m^2]cantera uses kmol/m^2, convert to mol/m^2\n",
    "cat_area = (catalyst_weight * cat_site_per_wt) / site_density  # [m^3]\n",
    "surf.coverages = \"X(1):1.0\"\n"
   ]
  },
  {
   "cell_type": "code",
   "execution_count": 79,
   "id": "9e8621fa",
   "metadata": {},
   "outputs": [],
   "source": [
    "gas_reactor = ct.IdealGasReactor(gas, energy='off')  # off for isothermal\n",
    "gas_reactor.volume = REACTOR_VOLUME\n",
    "surface_reactor = ct.ReactorSurface(surf, gas_reactor, A=cat_area)\n",
    "\n",
    "# set up mass flow controllers\n",
    "inlet = ct.Reservoir(gas)\n",
    "exhaust = ct.Reservoir(gas)\n",
    "\n",
    "FC_temp = 900\n",
    "molar_flow = volume_flow * ct.one_atm / (8.3145 * FC_temp)  # [mol/s]\n",
    "mass_flow = molar_flow * (\n",
    "    x_CO * MW_CO + x_O2 * MW_O2 + x_Ar * MW_Ar\n",
    ")  # [kg/s]\n",
    "mfc = ct.MassFlowController(inlet, gas_reactor, mdot=mass_flow)\n",
    "\n",
    "outlet_mfc = ct.PressureController(gas_reactor, exhaust, master=mfc, K=0.01)"
   ]
  },
  {
   "cell_type": "code",
   "execution_count": 80,
   "id": "d4efe3fe",
   "metadata": {},
   "outputs": [],
   "source": [
    "# initialize reactor network\n",
    "reactor_network = ct.ReactorNet([gas_reactor])\n",
    "\n",
    "# set relative and absolute tolerances on the simulation\n",
    "reactor_network.rtol = 1.0e-11\n",
    "reactor_network.atol = 1.0e-22\n",
    "\n",
    "\n",
    "# Now compile a list of all variables for which we will store data\n",
    "column_names = [gas_reactor.component_name(item) for item in range(gas_reactor.n_vars)]\n",
    "# column_names = ['pressure'] + column_names\n",
    "time_history = pd.DataFrame(columns=column_names)\n",
    "\n",
    "# Run the simulation\n",
    "t = 0\n",
    "counter = 1\n",
    "y_A = []\n",
    "t_steps = []\n",
    "while t < MAX_SIMULATION_TIME:\n",
    "    t = reactor_network.step()\n",
    "\n",
    "    # store every 10th value\n",
    "    if counter % 10 == 0:\n",
    "        state = gas_reactor.get_state()\n",
    "        #y_A.append(gas_reactor.thermo.X[4])\n",
    "        t_steps.append(t)\n",
    "\n",
    "        # Update the dataframe\n",
    "        time_history.loc[t] = state\n",
    "    counter += 1\n"
   ]
  },
  {
   "cell_type": "code",
   "execution_count": 81,
   "id": "ddc75934",
   "metadata": {},
   "outputs": [],
   "source": [
    "# general plot settings\n",
    "N = -1"
   ]
  },
  {
   "cell_type": "code",
   "execution_count": 82,
   "id": "5cabbfff",
   "metadata": {},
   "outputs": [
    {
     "data": {
      "image/png": "[encoded data removed]",
      "text/plain": [
       "<Figure size 432x288 with 1 Axes>"
      ]
     },
     "metadata": {
      "needs_background": "light"
     },
     "output_type": "display_data"
    }
   ],
   "source": [
    "# Plot CO concentration vs time\n",
    "plt.plot(time_history.index[0:N], time_history['CO(4)'].values[0:N], label='CO')\n",
    "plt.xlabel('time')\n",
    "plt.ylabel('concentration')\n",
    "plt.legend()\n",
    "plt.show()"
   ]
  },
  {
   "cell_type": "code",
   "execution_count": 83,
   "id": "fe1809a8",
   "metadata": {},
   "outputs": [
    {
     "data": {
      "image/png": "[encoded data removed]",
      "text/plain": [
       "<Figure size 432x288 with 1 Axes>"
      ]
     },
     "metadata": {
      "needs_background": "light"
     },
     "output_type": "display_data"
    }
   ],
   "source": [
    "# Plot O2 concentration vs time\n",
    "plt.plot(time_history.index[0:N], time_history['O2(2)'].values[0:N], label='O2')\n",
    "plt.xlabel('time')\n",
    "plt.ylabel('concentration')\n",
    "plt.legend()\n",
    "plt.show()"
   ]
  },
  {
   "cell_type": "code",
   "execution_count": 84,
   "id": "b711b6a8",
   "metadata": {},
   "outputs": [
    {
     "data": {
      "image/png": "[encoded data removed]",
      "text/plain": [
       "<Figure size 432x288 with 1 Axes>"
      ]
     },
     "metadata": {
      "needs_background": "light"
     },
     "output_type": "display_data"
    }
   ],
   "source": [
    "# Plot CO2 concentration vs time\n",
    "plt.plot(time_history.index[0:N], time_history['CO2(3)'].values[0:N], label='CO2')\n",
    "plt.xlabel('time')\n",
    "plt.ylabel('concentration')\n",
    "plt.legend()\n",
    "plt.show()"
   ]
  },
  {
   "cell_type": "code",
   "execution_count": 86,
   "id": "2a00cc8c",
   "metadata": {},
   "outputs": [
    {
     "data": {
      "image/png": "[encoded data removed]",
      "text/plain": [
       "<Figure size 432x288 with 1 Axes>"
      ]
     },
     "metadata": {
      "needs_background": "light"
     },
     "output_type": "display_data"
    }
   ],
   "source": [
    "# try to detect poisoning?\n",
    "# Plot OCX concentration vs time\n",
    "plt.plot(time_history.index[0:N], time_history['OCX(14)'].values[0:N], label='OCX')\n",
    "plt.xlabel('time')\n",
    "plt.ylabel('concentration')\n",
    "plt.legend()\n",
    "plt.show()"
   ]
  },
  {
   "cell_type": "code",
   "execution_count": 87,
   "id": "e77a600f",
   "metadata": {},
   "outputs": [
    {
     "data": {
      "image/png": "[encoded data removed]",
      "text/plain": [
       "<Figure size 432x288 with 1 Axes>"
      ]
     },
     "metadata": {
      "needs_background": "light"
     },
     "output_type": "display_data"
    }
   ],
   "source": [
    "# try to detect poisoning?\n",
    "# Plot OX concentration vs time\n",
    "plt.plot(time_history.index[0:N], time_history['OX(8)'].values[0:N], label='OX')\n",
    "plt.xlabel('time')\n",
    "plt.ylabel('concentration')\n",
    "plt.legend()\n",
    "plt.show()"
   ]
  },
  {
   "cell_type": "code",
   "execution_count": 23,
   "id": "5ca33470",
   "metadata": {},
   "outputs": [
    {
     "data": {
      "text/plain": [
       "39.948"
      ]
     },
     "execution_count": 23,
     "metadata": {},
     "output_type": "execute_result"
    }
   ],
   "source": [
    "#gas.molecular_weights\n",
    "#gas.species_names\n"
   ]
  },
  {
   "cell_type": "code",
   "execution_count": 19,
   "id": "9fe6671e",
   "metadata": {},
   "outputs": [
    {
     "data": {
      "text/plain": [
       "['DP',\n",
       " 'DPX',\n",
       " 'DPY',\n",
       " 'HP',\n",
       " 'HPX',\n",
       " 'HPY',\n",
       " 'ID',\n",
       " 'P',\n",
       " 'P_sat',\n",
       " 'SP',\n",
       " 'SPX',\n",
       " 'SPY',\n",
       " 'SV',\n",
       " 'SVX',\n",
       " 'SVY',\n",
       " 'T',\n",
       " 'TD',\n",
       " 'TDX',\n",
       " 'TDY',\n",
       " 'TP',\n",
       " 'TPX',\n",
       " 'TPY',\n",
       " 'T_sat',\n",
       " 'UV',\n",
       " 'UVX',\n",
       " 'UVY',\n",
       " 'X',\n",
       " 'Y',\n",
       " '__call__',\n",
       " '__class__',\n",
       " '__copy__',\n",
       " '__delattr__',\n",
       " '__dir__',\n",
       " '__doc__',\n",
       " '__eq__',\n",
       " '__format__',\n",
       " '__ge__',\n",
       " '__getattribute__',\n",
       " '__getitem__',\n",
       " '__gt__',\n",
       " '__hash__',\n",
       " '__init__',\n",
       " '__init_subclass__',\n",
       " '__le__',\n",
       " '__lt__',\n",
       " '__module__',\n",
       " '__ne__',\n",
       " '__new__',\n",
       " '__pyx_vtable__',\n",
       " '__reduce__',\n",
       " '__reduce_ex__',\n",
       " '__repr__',\n",
       " '__setattr__',\n",
       " '__sizeof__',\n",
       " '__slots__',\n",
       " '__str__',\n",
       " '__subclasshook__',\n",
       " '_check_kinetics_species_index',\n",
       " '_check_phase_index',\n",
       " '_check_reaction_index',\n",
       " '_full_states',\n",
       " '_init_cti_xml',\n",
       " '_init_parts',\n",
       " '_references',\n",
       " 'activities',\n",
       " 'activity_coefficients',\n",
       " 'add_reaction',\n",
       " 'add_species',\n",
       " 'atomic_weight',\n",
       " 'atomic_weights',\n",
       " 'basis',\n",
       " 'binary_diff_coeffs',\n",
       " 'chemical_potentials',\n",
       " 'concentrations',\n",
       " 'cp',\n",
       " 'cp_mass',\n",
       " 'cp_mole',\n",
       " 'creation_rates',\n",
       " 'critical_density',\n",
       " 'critical_pressure',\n",
       " 'critical_temperature',\n",
       " 'cv',\n",
       " 'cv_mass',\n",
       " 'cv_mole',\n",
       " 'delta_enthalpy',\n",
       " 'delta_entropy',\n",
       " 'delta_gibbs',\n",
       " 'delta_standard_enthalpy',\n",
       " 'delta_standard_entropy',\n",
       " 'delta_standard_gibbs',\n",
       " 'density',\n",
       " 'density_mass',\n",
       " 'density_mole',\n",
       " 'destruction_rates',\n",
       " 'electric_potential',\n",
       " 'electrical_conductivity',\n",
       " 'electrochemical_potentials',\n",
       " 'element_index',\n",
       " 'element_name',\n",
       " 'element_names',\n",
       " 'element_potentials',\n",
       " 'elemental_mass_fraction',\n",
       " 'elemental_mole_fraction',\n",
       " 'enthalpy_mass',\n",
       " 'enthalpy_mole',\n",
       " 'entropy_mass',\n",
       " 'entropy_mole',\n",
       " 'equilibrate',\n",
       " 'equilibrium_constants',\n",
       " 'forward_rate_constants',\n",
       " 'forward_rates_of_progress',\n",
       " 'g',\n",
       " 'get_equivalence_ratio',\n",
       " 'gibbs_mass',\n",
       " 'gibbs_mole',\n",
       " 'h',\n",
       " 'int_energy_mass',\n",
       " 'int_energy_mole',\n",
       " 'is_reversible',\n",
       " 'isothermal_compressibility',\n",
       " 'kinetics_species_index',\n",
       " 'mass_fraction_dict',\n",
       " 'max_temp',\n",
       " 'mean_molecular_weight',\n",
       " 'min_temp',\n",
       " 'mix_diff_coeffs',\n",
       " 'mix_diff_coeffs_mass',\n",
       " 'mix_diff_coeffs_mole',\n",
       " 'modify_reaction',\n",
       " 'modify_species',\n",
       " 'mole_fraction_dict',\n",
       " 'molecular_weights',\n",
       " 'multi_diff_coeffs',\n",
       " 'multiplier',\n",
       " 'n_atoms',\n",
       " 'n_elements',\n",
       " 'n_phases',\n",
       " 'n_reactions',\n",
       " 'n_selected_species',\n",
       " 'n_species',\n",
       " 'n_total_species',\n",
       " 'name',\n",
       " 'net_production_rates',\n",
       " 'net_rates_of_progress',\n",
       " 'partial_molar_cp',\n",
       " 'partial_molar_enthalpies',\n",
       " 'partial_molar_entropies',\n",
       " 'partial_molar_int_energies',\n",
       " 'partial_molar_volumes',\n",
       " 'product_stoich_coeff',\n",
       " 'product_stoich_coeffs',\n",
       " 'products',\n",
       " 'reactant_stoich_coeff',\n",
       " 'reactant_stoich_coeffs',\n",
       " 'reactants',\n",
       " 'reaction',\n",
       " 'reaction_equation',\n",
       " 'reaction_equations',\n",
       " 'reaction_phase_index',\n",
       " 'reaction_type',\n",
       " 'reactions',\n",
       " 'reference_pressure',\n",
       " 'report',\n",
       " 'reverse_rate_constants',\n",
       " 'reverse_rates_of_progress',\n",
       " 's',\n",
       " 'selected_species',\n",
       " 'set_equivalence_ratio',\n",
       " 'set_multiplier',\n",
       " 'set_unnormalized_mass_fractions',\n",
       " 'set_unnormalized_mole_fractions',\n",
       " 'species',\n",
       " 'species_index',\n",
       " 'species_name',\n",
       " 'species_names',\n",
       " 'species_viscosities',\n",
       " 'standard_cp_R',\n",
       " 'standard_enthalpies_RT',\n",
       " 'standard_entropies_R',\n",
       " 'standard_gibbs_RT',\n",
       " 'standard_int_energies_RT',\n",
       " 'state',\n",
       " 'thermal_conductivity',\n",
       " 'thermal_diff_coeffs',\n",
       " 'thermal_expansion_coeff',\n",
       " 'transport_model',\n",
       " 'u',\n",
       " 'v',\n",
       " 'viscosity',\n",
       " 'volume_mass',\n",
       " 'volume_mole']"
      ]
     },
     "execution_count": 19,
     "metadata": {},
     "output_type": "execute_result"
    }
   ],
   "source": [
    "dir(gas)"
   ]
  },
  {
   "cell_type": "code",
   "execution_count": 33,
   "id": "e77fdd06",
   "metadata": {},
   "outputs": [
    {
     "data": {
      "text/html": [
       "<div>\n",
       "<style scoped>\n",
       "    .dataframe tbody tr th:only-of-type {\n",
       "        vertical-align: middle;\n",
       "    }\n",
       "\n",
       "    .dataframe tbody tr th {\n",
       "        vertical-align: top;\n",
       "    }\n",
       "\n",
       "    .dataframe thead th {\n",
       "        text-align: right;\n",
       "    }\n",
       "</style>\n",
       "<table border=\"1\" class=\"dataframe\">\n",
       "  <thead>\n",
       "    <tr style=\"text-align: right;\">\n",
       "      <th></th>\n",
       "      <th>mass</th>\n",
       "      <th>volume</th>\n",
       "      <th>temperature</th>\n",
       "      <th>Ar</th>\n",
       "      <th>Ne</th>\n",
       "      <th>N2</th>\n",
       "      <th>O2(2)</th>\n",
       "      <th>CO2(3)</th>\n",
       "      <th>CO(4)</th>\n",
       "      <th>O2(73)</th>\n",
       "      <th>...</th>\n",
       "      <th>CX(15)</th>\n",
       "      <th>CO2X2(24)</th>\n",
       "      <th>COX2(31)</th>\n",
       "      <th>CO2X3(43)</th>\n",
       "      <th>O2X2(46)</th>\n",
       "      <th>O2X(48)</th>\n",
       "      <th>CO3X4(64)</th>\n",
       "      <th>C2O2X2(80)</th>\n",
       "      <th>C3OX2(107)</th>\n",
       "      <th>SX(136)</th>\n",
       "    </tr>\n",
       "  </thead>\n",
       "  <tbody>\n",
       "  </tbody>\n",
       "</table>\n",
       "<p>0 rows × 24 columns</p>\n",
       "</div>"
      ],
      "text/plain": [
       "Empty DataFrame\n",
       "Columns: [mass, volume, temperature, Ar, Ne, N2, O2(2), CO2(3), CO(4), O2(73), X(1), OX(8), CO2X(13), OCX(14), CX(15), CO2X2(24), COX2(31), CO2X3(43), O2X2(46), O2X(48), CO3X4(64), C2O2X2(80), C3OX2(107), SX(136)]\n",
       "Index: []\n",
       "\n",
       "[0 rows x 24 columns]"
      ]
     },
     "execution_count": 33,
     "metadata": {},
     "output_type": "execute_result"
    }
   ],
   "source": [
    "time_history"
   ]
  },
  {
   "cell_type": "code",
   "execution_count": null,
   "id": "03cb0f24",
   "metadata": {},
   "outputs": [],
   "source": [
    "\n"
   ]
  },
  {
   "cell_type": "code",
   "execution_count": null,
   "id": "405de88a",
   "metadata": {},
   "outputs": [],
   "source": []
  },
  {
   "cell_type": "code",
   "execution_count": null,
   "id": "8d7fe3bc",
   "metadata": {},
   "outputs": [],
   "source": []
  }
 ],
 "metadata": {
  "kernelspec": {
   "display_name": "Python 3 (ipykernel)",
   "language": "python",
   "name": "python3"
  },
  "language_info": {
   "codemirror_mode": {
    "name": "ipython",
    "version": 3
   },
   "file_extension": ".py",
   "mimetype": "text/x-python",
   "name": "python",
   "nbconvert_exporter": "python",
   "pygments_lexer": "ipython3",
   "version": "3.7.11"
  }
 },
 "nbformat": 4,
 "nbformat_minor": 5
}
